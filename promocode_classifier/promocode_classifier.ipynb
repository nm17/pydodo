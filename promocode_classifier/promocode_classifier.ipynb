{
 "cells": [
  {
   "cell_type": "markdown",
   "source": [
    "# Text classification based on if text conains a Dodo promo code or not\n",
    "\n",
    "Can be useful to check text before parsing it for potential promo codes.\n",
    "\n",
    "## Reading train data from file\n",
    "I have collected a lot of train data from a lot of different sites. It's about 40 kBytes in size."
   ],
   "metadata": {
    "collapsed": false,
    "pycharm": {
     "name": "#%% md\n"
    }
   }
  },
  {
   "cell_type": "code",
   "execution_count": 14,
   "outputs": [],
   "source": [
    "import re\n",
    "import yaml\n",
    "from textblob import TextBlob\n",
    "from textblob.classifiers import basic_extractor, NaiveBayesClassifier\n",
    "\n",
    "with open(\"promocode_classifier/train.yaml\") as file:\n",
    "    train = yaml.safe_load(file.read())[\"train_data\"]\n"
   ],
   "metadata": {
    "collapsed": false,
    "pycharm": {
     "name": "#%%\n",
     "is_executing": false
    }
   }
  },
  {
   "cell_type": "markdown",
   "source": [
    "## Adding a custom feature extractor and training a Naive Bayes classifier\n",
    "I'm extracting any potential promo codes from the text and getting their length and also saying\n",
    "if there is anything that looks like a promo code in the text."
   ],
   "metadata": {
    "collapsed": false
   }
  },
  {
   "cell_type": "code",
   "execution_count": 15,
   "outputs": [],
   "source": [
    "def promocode_extractor(document: TextBlob, train_set):\n",
    "    r = re.findall(r\"[(-:,.\\s][A-Z0-9]{3,7}[-:,.\\s)]\", str(document))\n",
    "    t = {}\n",
    "    if r is not None:\n",
    "        t = {\"contains_code\": True}\n",
    "        for i in r:\n",
    "            t = {**t, \"contains_code(len:{})\".format(len(i.strip())): True}\n",
    "    return t\n",
    "\n",
    "\n",
    "# This is for making it easier to extend this code\n",
    "# by making it run functions specified in this variable and then\n",
    "# combining their results.\n",
    "extractors = [promocode_extractor]\n",
    "\n",
    "\n",
    "def dodo_extractor(document: TextBlob, train_set):\n",
    "    bas = basic_extractor(document, train_set)\n",
    "    result = bas\n",
    "    for extractor in extractors:\n",
    "        result = {**result, **extractor(document, train_set)}\n",
    "    return result\n",
    "\n",
    "\n",
    "tr = NaiveBayesClassifier(train, feature_extractor=dodo_extractor)"
   ],
   "metadata": {
    "collapsed": false,
    "pycharm": {
     "name": "#%%\n",
     "is_executing": false
    }
   }
  },
  {
   "cell_type": "markdown",
   "source": [
    "## Getting some more info about our model\n"
   ],
   "metadata": {
    "collapsed": false,
    "pycharm": {
     "name": "#%% md\n"
    }
   }
  },
  {
   "cell_type": "code",
   "execution_count": 16,
   "outputs": [
    {
     "name": "stdout",
     "text": [
      "Most Informative Features\n    contains_code(len:5) = True                + : -      =      8.0 : 1.0\n           contains(руб) = True                - : +      =      4.4 : 1.0\n            contains(30) = True                + : -      =      4.4 : 1.0\n      contains(Промокод) = True                + : -      =      4.3 : 1.0\n    contains_code(len:4) = True                + : -      =      4.1 : 1.0\n     contains(Используй) = True                + : -      =      3.4 : 1.0\n          contains(всех) = True                + : -      =      3.4 : 1.0\n       contains(Додстер) = True                - : +      =      3.2 : 1.0\n        contains(рублей) = True                + : -      =      2.8 : 1.0\n       contains(Условия) = True                + : -      =      2.7 : 1.0\n"
     ],
     "output_type": "stream"
    }
   ],
   "source": [
    "tr.show_informative_features()"
   ],
   "metadata": {
    "collapsed": false,
    "pycharm": {
     "name": "#%%\n",
     "is_executing": false
    }
   }
  },
  {
   "cell_type": "markdown",
   "source": [
    "It seems that a lot of texts with promo codes have:\n",
    "\n",
    "  - a promo code like word that is 5 chars in length\n",
    "  - number 30 (I guess it's because most of the promo codes work for only 30 cm pizzas)\n",
    "  - the word \"Промокод\"\n",
    "  - the word \"Используй\"\n",
    "  - the word \"всех\"\n",
    "  - the word \"рублей\" (not sure why its positive, when the word руб is negative)\n",
    "\n",
    "**TODO:** add more stuff"
   ],
   "metadata": {
    "collapsed": false,
    "pycharm": {
     "name": "#%% md\n"
    }
   }
  }
 ],
 "metadata": {
  "kernelspec": {
   "display_name": "Python 3",
   "language": "python",
   "name": "python3"
  },
  "language_info": {
   "codemirror_mode": {
    "name": "ipython",
    "version": 2
   },
   "file_extension": ".py",
   "mimetype": "text/x-python",
   "name": "python",
   "nbconvert_exporter": "python",
   "pygments_lexer": "ipython2",
   "version": "2.7.6"
  },
  "pycharm": {
   "stem_cell": {
    "cell_type": "raw",
    "source": [],
    "metadata": {
     "collapsed": false
    }
   }
  }
 },
 "nbformat": 4,
 "nbformat_minor": 0
}